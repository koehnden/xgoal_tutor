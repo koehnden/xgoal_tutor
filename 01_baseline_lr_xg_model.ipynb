{
  "cells": [
    {
      "cell_type": "markdown",
      "metadata": {},
      "source": "# Baseline xG (Goal vs Non-Goal) \u2014 Skeleton\n\nWe'll load ../data/xgoal-db.sqlite if present, build simple geometry/context features, train a calibrated Logistic Regression, and produce basic metrics + explanations. Non-penalty, non-own-goal only. Everything is guarded so the notebook runs even when the DB is missing.\n"
    },
    {
      "cell_type": "code",
      "execution_count": null,
      "metadata": {},
      "outputs": [],
      "source": "# Core\nimport os, sqlite3, math, json\nfrom pathlib import Path\n\n# Data\nimport numpy as np\nimport pandas as pd\n\n# Modeling\nfrom sklearn.model_selection import GroupKFold\nfrom sklearn.pipeline import make_pipeline\nfrom sklearn.preprocessing import StandardScaler\nfrom sklearn.linear_model import LogisticRegression\nfrom sklearn.calibration import CalibratedClassifierCV\nfrom sklearn.metrics import roc_auc_score, log_loss, brier_score_loss\nfrom sklearn.impute import SimpleImputer\n\n# Plots\nimport matplotlib.pyplot as plt\n\n# Repro\nSEED = 42\nnp.random.seed(SEED)\n\n# ---- Config ----\nDB_PATH = Path(\"../data/xgoal-db.sqlite\")   # <\u2014 YOUR DB path\nUSE_MATERIALIZED_WIDE = True                # if table shots_wide exists, use it\nPRINT_ROWS = 5\n"
    },
    {
      "cell_type": "code",
      "execution_count": null,
      "metadata": {},
      "outputs": [],
      "source": "WIDE_CTE_SQL = \"\"\"\nWITH ff AS (\n    SELECT\n        shot_id,\n        COUNT(*)                                                AS ff_count,\n        SUM(CASE WHEN teammate = 1 THEN 1 ELSE 0 END)          AS ff_teammates,\n        SUM(CASE WHEN teammate = 0 THEN 1 ELSE 0 END)          AS ff_opponents,\n        SUM(CASE WHEN keeper   = 1 THEN 1 ELSE 0 END)          AS ff_keeper_count,\n        AVG(CASE WHEN keeper   = 1 THEN x END)                 AS ff_keeper_x,\n        AVG(CASE WHEN keeper   = 1 THEN y END)                 AS ff_keeper_y\n    FROM freeze_frames\n    GROUP BY shot_id\n)\nSELECT\n    s.*,\n    e.under_pressure       AS event_under_pressure,\n    e.counterpress         AS event_counterpress,\n    e.duration             AS event_duration,\n    ff.ff_count,\n    ff.ff_teammates,\n    ff.ff_opponents,\n    ff.ff_keeper_count,\n    ff.ff_keeper_x,\n    ff.ff_keeper_y\nFROM shots s\nLEFT JOIN events e ON e.event_id = s.shot_id\nLEFT JOIN ff     ON ff.shot_id   = s.shot_id;\n\"\"\"\n\ndef load_wide_df(db_path: Path, use_materialized: bool = True) -> pd.DataFrame | None:\n    if not db_path.exists():\n        print(f\"[info] DB not found at {db_path.resolve()}. Proceeding with skeleton only.\")\n        return None\n    with sqlite3.connect(db_path) as conn:\n        tables = set(pd.read_sql(\"SELECT name FROM sqlite_master WHERE type='table';\", conn)[\"name\"])\n        if \"shots_wide\" in tables and use_materialized:\n            df = pd.read_sql(\"SELECT * FROM shots_wide;\", conn)\n        else:\n            df = pd.read_sql(WIDE_CTE_SQL, conn)\n    if not df.empty and not df[\"shot_id\"].is_unique:\n        raise ValueError(\"shot_id must be unique (one row per shot)\")\n    return df\n\ndf = load_wide_df(DB_PATH, USE_MATERIALIZED_WIDE)\nprint(\"[info] df is\", None if df is None else df.shape)\nif df is not None:\n    display(df.head(PRINT_ROWS))\n"
    },
    {
      "cell_type": "code",
      "execution_count": null,
      "metadata": {},
      "outputs": [],
      "source": "if df is None or df.empty:\n    print(\"[warn] No data loaded. Creating a tiny mock frame so the notebook runs end-to-end.\")\n    df = pd.DataFrame({\n        \"shot_id\": [\"a\",\"b\",\"c\"],\n        \"outcome\": [\"Goal\",\"Saved\",\"Miss\"],\n        \"is_penalty\": [False, False, False],\n        \"is_own_goal\": [False, False, False],\n        \"start_x\": [100.0, 90.0, 80.0],\n        \"start_y\": [40.0, 30.0, 50.0],\n        \"body_part\": [\"Right Foot\",\"Head\",\"Left Foot\"],\n        \"is_set_piece\": [False, False, True],\n        \"is_corner\": [False, False, False],\n        \"is_free_kick\": [False, False, True],\n        \"first_time\": [True, False, False],\n        \"under_pressure\": [False, True, False],\n        \"ff_opponents\": [1.0, 3.0, 0.0],\n        \"ff_keeper_x\": [118.0, 119.0, 117.5],\n        \"ff_keeper_y\": [40.0, 41.0, 39.5],\n        \"match_id\": [1,1,1],\n    })\n\ndf0 = df.copy()\nmask_valid = (~df0[\"is_penalty\"].astype(bool)) & (~df0[\"is_own_goal\"].astype(bool))\ndata = df0.loc[mask_valid].copy()\n\ny = (data[\"outcome\"] == \"Goal\").astype(int)\nLEAKY = [c for c in [\"end_x\",\"end_y\",\"end_z\"] if c in data.columns]\ndata = data.drop(columns=LEAKY, errors=\"ignore\")\nprint(\"rows:\", len(data), \"goals:\", int(y.sum()), \"base rate:\", float(y.mean()))\n"
    },
    {
      "cell_type": "code",
      "execution_count": null,
      "metadata": {},
      "outputs": [],
      "source": "SB_LEN, SB_WID = 120.0, 80.0\nGOAL_YC_SB = 40.0\nGOAL_HALF_W_SB = (7.32/2) * (SB_WID / 68.0)  # ~3.66m scaled to SB units\n\ndef distance_sb(x, y):\n    dx = SB_LEN - x\n    dy = GOAL_YC_SB - y\n    return np.hypot(dx, dy)\n\ndef opening_angle_deg_sb(x, y):\n    left  = np.array([SB_LEN, GOAL_YC_SB - GOAL_HALF_W_SB])\n    right = np.array([SB_LEN, GOAL_YC_SB + GOAL_HALF_W_SB])\n    p = np.column_stack([x, y])\n    v1 = left  - p\n    v2 = right - p\n    dot = (v1 * v2).sum(axis=1)\n    n1 = np.linalg.norm(v1, axis=1)\n    n2 = np.linalg.norm(v2, axis=1)\n    cosang = np.clip(dot/(n1*n2), -1, 1)\n    return np.degrees(np.arccos(cosang))\n"
    },
    {
      "cell_type": "code",
      "execution_count": null,
      "metadata": {},
      "outputs": [],
      "source": "X = pd.DataFrame(index=data.index)\nX[\"dist_sb\"] = distance_sb(data[\"start_x\"].to_numpy(), data[\"start_y\"].to_numpy())\nX[\"angle_deg_sb\"] = opening_angle_deg_sb(data[\"start_x\"].to_numpy(), data[\"start_y\"].to_numpy())\n\ndef to_num(s):\n    if pd.api.types.is_bool_dtype(s):\n        return s.fillna(False).astype(int)\n    return pd.to_numeric(s, errors=\"coerce\")\n\nfor col in [\"is_set_piece\",\"is_corner\",\"is_free_kick\",\"first_time\",\"under_pressure\"]:\n    if col in data.columns:\n        X[col] = to_num(data[col].astype(\"boolean\"))\n    else:\n        X[col] = 0\n\nX[\"is_header\"] = (data.get(\"body_part\", \"\") == \"Head\").astype(int) if \"body_part\" in data.columns else 0\n\nif {\"ff_keeper_x\",\"ff_keeper_y\"}.issubset(data.columns):\n    X[\"gk_depth_sb\"] = np.maximum(0.0, SB_LEN - data[\"ff_keeper_x\"])\n    X[\"gk_offset_sb\"] = data[\"ff_keeper_y\"] - GOAL_YC_SB\nelse:\n    X[\"gk_depth_sb\"] = 0.0\n    X[\"gk_offset_sb\"] = 0.0\n\nif \"ff_opponents\" in data.columns:\n    X[\"ff_opponents\"] = pd.to_numeric(data[\"ff_opponents\"], errors=\"coerce\")\nelse:\n    X[\"ff_opponents\"] = 0.0\n\nX = X.apply(pd.to_numeric, errors=\"coerce\")\ndisplay(X.describe().T.head(10))\n"
    },
    {
      "cell_type": "code",
      "execution_count": null,
      "metadata": {},
      "outputs": [],
      "source": "def grouped_split(X, y, groups):\n    idx = np.arange(len(X))\n    if len(idx) == 0:\n        return idx, idx\n\n    if groups is None:\n        rng = np.random.default_rng(SEED)\n        rng.shuffle(idx)\n        cut = int(0.8 * len(idx))\n        return idx[:cut], idx[cut:]\n\n    groups = pd.Series(groups).reset_index(drop=True)\n    unknown_mask = groups.isna() | (groups == 0)\n    known_idx = idx[~unknown_mask.to_numpy()]\n    unknown_idx = idx[unknown_mask.to_numpy()]\n\n    if len(known_idx) == 0:\n        print(\"[warn] All match_ids are missing/zero; reserving them for test only.\")\n        return np.array([], dtype=int), unknown_idx\n\n    known_groups = groups.loc[~unknown_mask]\n    if known_groups.nunique() < 2 or len(known_idx) < 5:\n        rng = np.random.default_rng(SEED)\n        rng.shuffle(known_idx)\n        cut = int(0.8 * len(known_idx))\n        tr_known = known_idx[:cut]\n        te_known = known_idx[cut:]\n    else:\n        n_splits = min(5, int(known_groups.nunique()))\n        gkf = GroupKFold(n_splits=n_splits)\n        group_values = known_groups.to_numpy()\n        tr_loc, te_loc = next(gkf.split(X.iloc[known_idx], y.iloc[known_idx], group_values))\n        tr_known = known_idx[tr_loc]\n        te_known = known_idx[te_loc]\n\n    test_idx = np.sort(np.concatenate([te_known, unknown_idx]))\n    train_mask = np.ones(len(idx), dtype=bool)\n    train_mask[test_idx] = False\n    train_idx = idx[train_mask]\n    return train_idx.astype(int), test_idx.astype(int)\n\ngroups = data[\"match_id\"] if \"match_id\" in data.columns else None\ntrain_idx, test_idx = grouped_split(X, y, groups)\n\nX_tr, X_te = X.iloc[train_idx], X.iloc[test_idx]\ny_tr, y_te = y.iloc[train_idx], y.iloc[test_idx]\n\nif groups is not None and len(train_idx) > 0 and (pd.Series(groups).iloc[train_idx] == 0).any():\n    raise ValueError(\"match_id=0 should not appear in the training split\")\n\nprint(X_tr.shape, X_te.shape, float(y_tr.mean()), float(y_te.mean()))\n"
    },
    {
      "cell_type": "code",
      "execution_count": null,
      "metadata": {},
      "outputs": [],
      "source": "def safe_metrics(y_true, p):\n    if len(np.unique(y_true)) < 2:\n        return {\"auc\": np.nan, \"logloss\": np.nan, \"brier\": np.nan}\n    return {\n        \"auc\": float(roc_auc_score(y_true, p)),\n        \"logloss\": float(log_loss(y_true, p)),\n        \"brier\": float(brier_score_loss(y_true, p))\n    }\n\ncal = None\np_raw = None\np_cal = None\n\nif len(X_tr) == 0 or len(np.unique(y_tr)) < 2:\n    print(\"[warn] Not enough training data to fit the model.\")\nelse:\n    base = make_pipeline(\n        SimpleImputer(strategy=\"median\"),\n        StandardScaler(with_mean=True, with_std=True),\n        LogisticRegression(max_iter=1000, solver=\"lbfgs\", C=1.0)\n    )\n    base.fit(X_tr, y_tr)\n    p_raw = base.predict_proba(X_te)[:, 1] if len(X_te) else np.array([])\n    print(\"Uncalibrated:\", safe_metrics(y_te, p_raw) if len(p_raw) else {\"auc\": np.nan, \"logloss\": np.nan, \"brier\": np.nan})\n\n    cal = CalibratedClassifierCV(base, method=\"sigmoid\", cv=\"prefit\")\n    cal.fit(X_tr, y_tr)\n    p_cal = cal.predict_proba(X_te)[:, 1] if len(X_te) else np.array([])\n    print(\"Calibrated:\", safe_metrics(y_te, p_cal) if len(p_cal) else {\"auc\": np.nan, \"logloss\": np.nan, \"brier\": np.nan})\n"
    },
    {
      "cell_type": "code",
      "execution_count": null,
      "metadata": {},
      "outputs": [],
      "source": "from sklearn.calibration import calibration_curve\n\nif cal is not None and len(X_te) > 50 and len(np.unique(y_te)) == 2:\n    prob_true, prob_pred = calibration_curve(y_te, p_cal, n_bins=10, strategy=\"quantile\")\n    plt.figure()\n    plt.plot([0,1],[0,1], \"--\", label=\"perfect\")\n    plt.plot(prob_pred, prob_true, marker=\"o\", label=\"calibrated\")\n    plt.xlabel(\"Predicted probability\")\n    plt.ylabel(\"Observed frequency\")\n    plt.title(\"Reliability \u2014 Calibrated LR\")\n    plt.legend(); plt.show()\nelse:\n    print(\"[info] Skipping reliability plot (not enough test data or model not fit).\")\n"
    },
    {
      "cell_type": "code",
      "execution_count": null,
      "metadata": {},
      "outputs": [],
      "source": "def distance_phrase(d):\n    return \"close range\" if d < 12 else \"medium range\" if d < 18 else \"long range\"\n\ndef angle_phrase(a):\n    return \"wide angle\" if a > 25 else \"moderate angle\" if a > 10 else \"tight angle\"\n\ndef defenders_phrase(n):\n    if n >= 3: return \"crowded sightline\"\n    if n == 0: return \"clear sight\"\n    return None\n\ndef gk_phrase(depth, offset):\n    parts = []\n    if depth >= 6: parts.append(\"deep GK\")\n    if abs(offset) >= 2.5: parts.append(\"GK off-center\")\n    return \"; \\n\".join(parts) if parts else None\n\ndef explain_row(r: pd.Series, xg: float) -> str:\n    bits = [f\"{xg:.2f} xG \u2014 {distance_phrase(r['dist_sb'])}, {angle_phrase(r['angle_deg_sb'])}\"]\n    if r.get(\"first_time\", 0) == 1: bits.append(\"first-time\")\n    if r.get(\"is_free_kick\", 0) == 1: bits.append(\"direct free-kick\")\n    dp = defenders_phrase(int(r.get(\"ff_opponents\", 0)))\n    if dp: bits.append(dp)\n    gp = gk_phrase(r.get(\"gk_depth_sb\", 0.0), r.get(\"gk_offset_sb\", 0.0))\n    if gp: bits.append(gp)\n    return \", \\\".join(bits) + \".\"\n\nif cal is None:\n    print(\"[info] Model not fit; skipping coefficient inspection.\")\nelse:\n    lr = cal.base_estimator.named_steps[\"logisticregression\"]\n    coef = lr.coef_[0]\n    feat_names = X_tr.columns\n    coef_df = pd.DataFrame({\"feature\": feat_names, \"coef\": coef}).sort_values(\"coef\", ascending=False)\n    display(coef_df.head(10)); display(coef_df.tail(10))\n\n    # demo for a few test rows (guarded)\n    n_demo = min(5, len(X_te))\n    if n_demo > 0:\n        demo = X_te.head(n_demo)\n        px = cal.predict_proba(demo)[:,1]\n        for r, p in zip(demo.itertuples(index=False), px):\n            print(explain_row(pd.Series(r._asdict(), index=demo.columns), float(p)))\n    else:\n        print(\"[info] No test rows to demo explanations.\")\n"
    },
    {
      "cell_type": "code",
      "execution_count": null,
      "metadata": {},
      "outputs": [],
      "source": "from pathlib import Path\nimport joblib, json\n\nART_DIR = Path(\"artifacts\"); ART_DIR.mkdir(exist_ok=True, parents=True)\n\nif cal is not None and len(X_tr) > 0:\n    joblib.dump(cal, ART_DIR / \"baseline_lr_calibrated.joblib\")\n    with open(ART_DIR / \"feature_names.json\", \"w\") as f:\n        json.dump(list(X.columns), f, indent=2)\n    with open(ART_DIR / \"README.txt\", \"w\") as f:\n        f.write(\n            \"Baseline calibrated Logistic Regression for non-penalty shots.\\n\"\n            \"Inputs: features in feature_names.json\\n\"\n            \"Target: outcome == 'Goal'\\n\"\n            \"Calibration: Platt (sigmoid) on train fold\\n\"\n        )\n    print(\"Saved artifacts to:\", ART_DIR.resolve())\nelse:\n    print(\"[info] Skipping artifact save (model not fit).\")\n"
    },
    {
      "cell_type": "markdown",
      "metadata": {},
      "source": "## Next steps\n\n- Add defenders-in-cone & nearest-defender distance.\n- Try isotonic calibration vs sigmoid.\n- Add LightGBM (shallow) and compare Brier/LogLoss.\n- Ensure GroupKFold across all folds for stable metrics.\n- Plug model + explanation into FastAPI/Streamlit.\n"
    }
  ],
  "metadata": {
    "kernelspec": {
      "display_name": "Python 3",
      "language": "python",
      "name": "python3"
    },
    "language_info": {
      "name": "python",
      "version": "3.11"
    }
  },
  "nbformat": 4,
  "nbformat_minor": 5
}