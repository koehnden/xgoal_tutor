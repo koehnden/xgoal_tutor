{
  "cells": [
    {
      "cell_type": "markdown",
      "metadata": {},
      "source": [
        "# Exploratory Data Analysis for xG Tutor\n",
        "\n",
        "This notebook explores the StatsBomb-derived SQLite dataset used by **xG Tutor**.\n",
        "We will audit data quality, engineer key shot geometry features (distance and\n",
        "angle), and look for early relationships between goal outcomes, StatsBomb xG,\n",
        "and other shot attributes."
      ]
    },
    {
      "cell_type": "markdown",
      "metadata": {},
      "source": [
        "## Imports & Notebook Setup\n",
        "\n",
        "We start by loading the Python packages needed for data access, numerical\n",
        "analysis, and visualization."
      ]
    },
    {
      "cell_type": "code",
      "execution_count": null,
      "metadata": {},
      "outputs": [],
      "source": [
        "import json\n",
        "import math\n",
        "import sqlite3\n",
        "from pathlib import Path\n",
        "\n",
        "import matplotlib.pyplot as plt\n",
        "import numpy as np\n",
        "import pandas as pd\n",
        "import seaborn as sns\n",
        "\n",
        "pd.options.display.max_columns = 60\n",
        "pd.options.display.float_format = \"{:.3f}\".format\n",
        "sns.set_context(\"notebook\")"
      ]
    },
    {
      "cell_type": "markdown",
      "metadata": {},
      "source": [
        "## Load the StatsBomb-Derived Dataset\n",
        "\n",
        "Set the path to the SQLite database populated by the ETL pipeline. If you have\n",
        "not run the loader yet, execute the following command from the project root to\n",
        "create `data/xg_tutor.db` first:\n",
        "\n",
        "```bash\n",
        "poetry run python -m xgoal_tutor.etl /path/to/events.json data/xg_tutor.db\n",
        "```\n",
        "\n",
        "Update `DB_PATH` below if you store the database elsewhere."
      ]
    },
    {
      "cell_type": "code",
      "execution_count": null,
      "metadata": {},
      "outputs": [],
      "source": [
        "DB_PATH = Path(\"data/xg_tutor.db\")\n",
        "if not DB_PATH.exists():\n",
        "    raise FileNotFoundError(\n",
        "        \"SQLite database not found. Run the ETL loader before executing the notebook.\"\n",
        "    )\n",
        "\n",
        "with sqlite3.connect(DB_PATH) as conn:\n",
        "    shots = pd.read_sql(\"SELECT * FROM shots\", conn)\n",
        "    events = pd.read_sql(\"SELECT * FROM events\", conn)\n",
        "    freeze_frames = pd.read_sql(\"SELECT * FROM freeze_frames\", conn)\n",
        "\n",
        "shots.head()"
      ]
    },
    {
      "cell_type": "markdown",
      "metadata": {},
      "source": [
        "## Initial Data Audit\n",
        "\n",
        "Inspect the basic structure and completeness of the `shots` table to surface\n",
        "potential data quality issues."
      ]
    },
    {
      "cell_type": "code",
      "execution_count": null,
      "metadata": {},
      "outputs": [],
      "source": [
        "shots.info()"
      ]
    },
    {
      "cell_type": "code",
      "execution_count": null,
      "metadata": {},
      "outputs": [],
      "source": [
        "missing_summary = (\n",
        "    shots.isna()\n",
        "    .mean()\n",
        "    .rename(\"missing_fraction\")\n",
        "    .to_frame()\n",
        "    .assign(missing_count=shots.isna().sum())\n",
        "    .sort_values(\"missing_fraction\", ascending=False)\n",
        ")\n",
        "missing_summary.head(20)"
      ]
    },
    {
      "cell_type": "code",
      "execution_count": null,
      "metadata": {},
      "outputs": [],
      "source": [
        "shots.describe(include=\"all\", datetime_is_numeric=True)"
      ]
    },
    {
      "cell_type": "markdown",
      "metadata": {},
      "source": [
        "### Logical Consistency Checks\n",
        "\n",
        "A few quick validation queries help reveal duplicated identifiers and confirm\n",
        "basic assumptions about coordinates and categorical values."
      ]
    },
    {
      "cell_type": "code",
      "execution_count": null,
      "metadata": {},
      "outputs": [],
      "source": [
        "consistency_checks = {\n",
        "    \"duplicate_shot_ids\": shots[\"shot_id\"].duplicated().sum(),\n",
        "    \"unique_outcomes\": shots[\"outcome\"].dropna().unique(),\n",
        "    \"start_x_range\": shots[\"start_x\"].agg([\"min\", \"max\"]),\n",
        "    \"start_y_range\": shots[\"start_y\"].agg([\"min\", \"max\"]),\n",
        "}\n",
        "consistency_checks"
      ]
    },
    {
      "cell_type": "markdown",
      "metadata": {},
      "source": [
        "## Geometry Feature Engineering\n",
        "\n",
        "StatsBomb encodes shot locations on a 120\u00d780 pitch. We map those coordinates to\n",
        "real-world dimensions (105\u00d768 meters) and compute two key geometry features:\n",
        "\n",
        "- **Distance to the goal center** in meters\n",
        "- **Goal opening angle** in both radians and degrees"
      ]
    },
    {
      "cell_type": "code",
      "execution_count": null,
      "metadata": {},
      "outputs": [],
      "source": [
        "SB_PITCH_LENGTH = 120.0\n",
        "SB_PITCH_WIDTH = 80.0\n",
        "REAL_PITCH_LENGTH = 105.0\n",
        "REAL_PITCH_WIDTH = 68.0\n",
        "GOAL_WIDTH = 7.32\n",
        "GOAL_X = REAL_PITCH_LENGTH\n",
        "GOAL_Y = REAL_PITCH_WIDTH / 2\n",
        "UPPER_POST_Y = GOAL_Y - GOAL_WIDTH / 2\n",
        "LOWER_POST_Y = GOAL_Y + GOAL_WIDTH / 2\n",
        "\n",
        "\n",
        "def statsbomb_to_metric(x: pd.Series, y: pd.Series) -> tuple[pd.Series, pd.Series]:\n",
        "    \"\"\"Convert StatsBomb shot coordinates to metric units.\"\"\"\n",
        "\n",
        "    scale_x = REAL_PITCH_LENGTH / SB_PITCH_LENGTH\n",
        "    scale_y = REAL_PITCH_WIDTH / SB_PITCH_WIDTH\n",
        "    return x * scale_x, y * scale_y\n",
        "\n",
        "\n",
        "def goal_distance(x_m: pd.Series, y_m: pd.Series) -> pd.Series:\n",
        "    \"\"\"Compute Euclidean distance to the goal center in meters.\"\"\"\n",
        "\n",
        "    return np.hypot(GOAL_X - x_m, GOAL_Y - y_m)\n",
        "\n",
        "\n",
        "def goal_opening_angle(x_m: pd.Series, y_m: pd.Series) -> pd.Series:\n",
        "    \"\"\"Compute the goal opening angle (radians) from the shot location.\"\"\"\n",
        "\n",
        "    shot_points = np.column_stack([x_m, y_m])\n",
        "    upper_post = np.array([GOAL_X, UPPER_POST_Y])\n",
        "    lower_post = np.array([GOAL_X, LOWER_POST_Y])\n",
        "\n",
        "    vec_upper = upper_post - shot_points\n",
        "    vec_lower = lower_post - shot_points\n",
        "\n",
        "    dot = np.einsum(\"ij,ij->i\", vec_upper, vec_lower)\n",
        "    norms = np.linalg.norm(vec_upper, axis=1) * np.linalg.norm(vec_lower, axis=1)\n",
        "\n",
        "    cos_theta = np.clip(dot / norms, -1.0, 1.0)\n",
        "    return np.arccos(cos_theta)\n",
        "\n",
        "\n",
        "shots = shots.copy()\n",
        "shots[\"start_x_m\"], shots[\"start_y_m\"] = statsbomb_to_metric(shots[\"start_x\"], shots[\"start_y\"])\n",
        "shots[\"distance_to_goal_m\"] = goal_distance(shots[\"start_x_m\"], shots[\"start_y_m\"])\n",
        "shots[\"goal_angle_rad\"] = goal_opening_angle(shots[\"start_x_m\"], shots[\"start_y_m\"])\n",
        "shots[\"goal_angle_deg\"] = np.degrees(shots[\"goal_angle_rad\"])\n",
        "\n",
        "shots[[\n",
        "    \"shot_id\",\n",
        "    \"start_x\",\n",
        "    \"start_y\",\n",
        "    \"start_x_m\",\n",
        "    \"start_y_m\",\n",
        "    \"distance_to_goal_m\",\n",
        "    \"goal_angle_rad\",\n",
        "    \"goal_angle_deg\",\n",
        "]].head()"
      ]
    },
    {
      "cell_type": "markdown",
      "metadata": {},
      "source": [
        "### Geometry Feature Distributions\n",
        "\n",
        "Plot the distributions of the engineered geometry features to understand their\n",
        "ranges and detect potential outliers."
      ]
    },
    {
      "cell_type": "code",
      "execution_count": null,
      "metadata": {},
      "outputs": [],
      "source": [
        "fig, axes = plt.subplots(1, 2, figsize=(14, 5))\n",
        "\n",
        "sns.histplot(shots[\"distance_to_goal_m\"], kde=True, bins=30, ax=axes[0])\n",
        "axes[0].set_title(\"Shot Distance to Goal (m)\")\n",
        "axes[0].set_xlabel(\"Distance (m)\")\n",
        "\n",
        "sns.histplot(shots[\"goal_angle_deg\"], kde=True, bins=30, ax=axes[1])\n",
        "axes[1].set_title(\"Goal Opening Angle (\u00b0)\")\n",
        "axes[1].set_xlabel(\"Angle (degrees)\")\n",
        "\n",
        "plt.tight_layout()\n",
        "plt.show()"
      ]
    },
    {
      "cell_type": "markdown",
      "metadata": {},
      "source": [
        "## Relationship Between Outcomes and Features\n",
        "\n",
        "Add helper columns for goal outcomes and inspect how distance, angle, and\n",
        "StatsBomb xG differ between scoring and non-scoring shots."
      ]
    },
    {
      "cell_type": "code",
      "execution_count": null,
      "metadata": {},
      "outputs": [],
      "source": [
        "shots[\"is_goal\"] = shots[\"outcome\"].eq(\"Goal\")\n",
        "\n",
        "summary_by_outcome = shots.groupby(\"is_goal\")[\n",
        "    [\"distance_to_goal_m\", \"goal_angle_deg\", \"statsbomb_xg\"]\n",
        "].agg([\"mean\", \"median\", \"std\", \"count\"])\n",
        "summary_by_outcome"
      ]
    },
    {
      "cell_type": "code",
      "execution_count": null,
      "metadata": {},
      "outputs": [],
      "source": [
        "melted = shots.melt(\n",
        "    id_vars=[\"is_goal\"],\n",
        "    value_vars=[\"distance_to_goal_m\", \"goal_angle_deg\", \"statsbomb_xg\"],\n",
        "    var_name=\"feature\",\n",
        "    value_name=\"value\",\n",
        ")\n",
        "\n",
        "plt.figure(figsize=(12, 6))\n",
        "sns.boxplot(data=melted, x=\"feature\", y=\"value\", hue=\"is_goal\")\n",
        "plt.title(\"Feature Distributions by Goal Outcome\")\n",
        "plt.xlabel(\"Feature\")\n",
        "plt.ylabel(\"Value\")\n",
        "plt.legend(title=\"Goal Scored\")\n",
        "plt.tight_layout()\n",
        "plt.show()"
      ]
    },
    {
      "cell_type": "markdown",
      "metadata": {},
      "source": [
        "### Correlation Matrix\n",
        "\n",
        "Compute a correlation matrix between StatsBomb xG, the engineered geometry\n",
        "features, and a selection of contextual flags to identify promising modelling\n",
        "signals."
      ]
    },
    {
      "cell_type": "code",
      "execution_count": null,
      "metadata": {},
      "outputs": [],
      "source": [
        "corr_features = [\n",
        "    \"statsbomb_xg\",\n",
        "    \"is_goal\",\n",
        "    \"distance_to_goal_m\",\n",
        "    \"goal_angle_deg\",\n",
        "    \"first_time\",\n",
        "    \"one_on_one\",\n",
        "    \"open_goal\",\n",
        "    \"under_pressure\",\n",
        "    \"is_set_piece\",\n",
        "    \"is_corner\",\n",
        "    \"is_free_kick\",\n",
        "]\n",
        "\n",
        "corr_matrix = shots[corr_features].corr()\n",
        "\n",
        "plt.figure(figsize=(10, 8))\n",
        "sns.heatmap(\n",
        "    corr_matrix,\n",
        "    annot=True,\n",
        "    fmt=\".2f\",\n",
        "    cmap=\"RdBu_r\",\n",
        "    center=0,\n",
        "    linewidths=0.5,\n",
        ")\n",
        "plt.title(\"Correlation Between Key Features and Outcomes\")\n",
        "plt.tight_layout()\n",
        "plt.show()"
      ]
    },
    {
      "cell_type": "markdown",
      "metadata": {},
      "source": [
        "## Next Steps\n",
        "\n",
        "- Investigate additional contextual features (defensive pressure, body part,\n",
        "  play pattern) for predictive power.\n",
        "- Blend geometry metrics with freeze-frame derived defender proximity features.\n",
        "- Calibrate an initial xG model using the engineered feature set."
      ]
    }
  ],
  "metadata": {
    "kernelspec": {
      "display_name": "Python 3",
      "language": "python",
      "name": "python3"
    },
    "language_info": {
      "name": "python",
      "version": "3.11"
    }
  },
  "nbformat": 4,
  "nbformat_minor": 5
}