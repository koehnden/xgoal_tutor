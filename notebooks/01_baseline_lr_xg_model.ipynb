{
 "cells": [
  {
   "cell_type": "markdown",
   "metadata": {},
   "source": "# Baseline xG (Goal vs Non-Goal) — Skeleton\n\nWe'll load ../data/xgoal-db.sqlite if present, build simple geometry/context features, train a calibrated Logistic Regression, and produce basic metrics + explanations. Non-penalty, non-own-goal only. Everything is guarded so the notebook runs even when the DB is missing.\n",
   "id": "88e7d2060d04a2a4"
  },
  {
   "cell_type": "code",
   "metadata": {
    "ExecuteTime": {
     "end_time": "2025-10-20T12:51:49.605417Z",
     "start_time": "2025-10-20T12:51:48.655427Z"
    }
   },
   "source": "# Core\nimport os, sqlite3, math, json\nfrom pathlib import Path\n\n# Data\nimport numpy as np\nimport pandas as pd\n\n# Modeling\nfrom sklearn.model_selection import GroupKFold\nfrom sklearn.pipeline import make_pipeline\nfrom sklearn.preprocessing import StandardScaler\nfrom sklearn.linear_model import LogisticRegression\nfrom sklearn.calibration import CalibratedClassifierCV\nfrom sklearn.metrics import roc_auc_score, log_loss, brier_score_loss\nfrom sklearn.impute import SimpleImputer\n\n# Plots\nimport matplotlib.pyplot as plt\n\n# Repro\nSEED = 42\nnp.random.seed(SEED)\n\n# ---- Config ----\nDB_PATH = Path(\"../data/xgoal-db.sqlite\")   # <— YOUR DB path\nUSE_MATERIALIZED_WIDE = True                # if table shots_wide exists, use it\nPRINT_ROWS = 5\n",
   "id": "124575eb354383ad",
   "outputs": [],
   "execution_count": 1
  },
  {
   "cell_type": "code",
   "metadata": {
    "ExecuteTime": {
     "end_time": "2025-10-20T12:51:50.426169Z",
     "start_time": "2025-10-20T12:51:49.610463Z"
    }
   },
   "source": "WIDE_CTE_SQL = \"\"\"\nWITH ff AS (\n    SELECT\n        shot_id,\n        COUNT(*)                                                AS ff_count,\n        SUM(CASE WHEN teammate = 1 THEN 1 ELSE 0 END)          AS ff_teammates,\n        SUM(CASE WHEN teammate = 0 THEN 1 ELSE 0 END)          AS ff_opponents,\n        SUM(CASE WHEN keeper   = 1 THEN 1 ELSE 0 END)          AS ff_keeper_count,\n        AVG(CASE WHEN keeper   = 1 THEN x END)                 AS ff_keeper_x,\n        AVG(CASE WHEN keeper   = 1 THEN y END)                 AS ff_keeper_y\n    FROM freeze_frames\n    GROUP BY shot_id\n)\nSELECT\n    s.*,\n    e.under_pressure       AS event_under_pressure,\n    e.counterpress         AS event_counterpress,\n    e.duration             AS event_duration,\n    ff.ff_count,\n    ff.ff_teammates,\n    ff.ff_opponents,\n    ff.ff_keeper_count,\n    ff.ff_keeper_x,\n    ff.ff_keeper_y\nFROM shots s\nLEFT JOIN events e ON e.event_id = s.shot_id\nLEFT JOIN ff     ON ff.shot_id   = s.shot_id;\n\"\"\"\n\ndef load_wide_df(db_path: Path, use_materialized: bool = True) -> pd.DataFrame | None:\n    if not db_path.exists():\n        print(f\"[info] DB not found at {db_path.resolve()}. Proceeding with skeleton only.\")\n        return None\n    with sqlite3.connect(db_path) as conn:\n        tables = set(pd.read_sql(\"SELECT name FROM sqlite_master WHERE type='table';\", conn)[\"name\"])\n        if \"shots_wide\" in tables and use_materialized:\n            df = pd.read_sql(\"SELECT * FROM shots_wide;\", conn)\n        else:\n            df = pd.read_sql(WIDE_CTE_SQL, conn)\n    if not df.empty and not df[\"shot_id\"].is_unique:\n        raise ValueError(\"shot_id must be unique (one row per shot)\")\n    return df\n\ndf = load_wide_df(DB_PATH, USE_MATERIALIZED_WIDE)\nprint(\"[info] df is\", None if df is None else df.shape)\nif df is not None:\n    display(df.head(PRINT_ROWS))\n",
   "id": "c30f3110fec5cfc1",
   "outputs": [
    {
     "name": "stdout",
     "output_type": "stream",
     "text": [
      "[info] df is (88023, 50)\n"
     ]
    },
    {
     "data": {
      "text/plain": [
       "                                shot_id  match_id  team_id  opponent_team_id  \\\n",
       "0  6a0741a9-8324-48ad-9647-04a342bd9e39         0      241               239   \n",
       "1  ccb673c1-37ca-48c0-9249-927469dccf9b         0      220               217   \n",
       "2  44befb97-6618-48a9-8607-8da6c605f339         0      220               217   \n",
       "3  5f0f0db7-2548-4ca9-9eb6-71b7b96448f1         0      178               872   \n",
       "4  f6cb589b-95a2-49bb-9c95-2982e02ff65b         0      160               146   \n",
       "\n",
       "   player_id  possession  possession_team_id  period  minute  second  ...  \\\n",
       "0       7149           2                 241       1       0    15.0  ...   \n",
       "1       3496           3                 220       1       0    20.0  ...   \n",
       "2      19677           3                 220       1       0    22.0  ...   \n",
       "3      20359           3                 178       1       0    44.0  ...   \n",
       "4      10616           3                 160       1       0    46.0  ...   \n",
       "\n",
       "  freeze_frame_count event_under_pressure  event_counterpress  event_duration  \\\n",
       "0                 10                  NaN                None        0.112927   \n",
       "1                 11                  NaN                None        0.403501   \n",
       "2                  8                  NaN                None        0.684151   \n",
       "3                 17                  1.0                None        0.854850   \n",
       "4                 13                  NaN                None        1.010053   \n",
       "\n",
       "   ff_count  ff_teammates  ff_opponents ff_keeper_count ff_keeper_x  \\\n",
       "0      10.0           2.0           8.0             1.0       118.9   \n",
       "1      11.0           4.0           7.0             1.0       118.8   \n",
       "2       8.0           2.0           6.0             1.0       119.2   \n",
       "3      17.0           7.0          10.0             1.0       118.5   \n",
       "4      13.0           4.0           9.0             1.0       119.0   \n",
       "\n",
       "  ff_keeper_y  \n",
       "0        41.8  \n",
       "1        39.7  \n",
       "2        41.3  \n",
       "3        36.0  \n",
       "4        39.8  \n",
       "\n",
       "[5 rows x 50 columns]"
      ],
      "text/html": [
       "<div>\n",
       "<style scoped>\n",
       "    .dataframe tbody tr th:only-of-type {\n",
       "        vertical-align: middle;\n",
       "    }\n",
       "\n",
       "    .dataframe tbody tr th {\n",
       "        vertical-align: top;\n",
       "    }\n",
       "\n",
       "    .dataframe thead th {\n",
       "        text-align: right;\n",
       "    }\n",
       "</style>\n",
       "<table border=\"1\" class=\"dataframe\">\n",
       "  <thead>\n",
       "    <tr style=\"text-align: right;\">\n",
       "      <th></th>\n",
       "      <th>shot_id</th>\n",
       "      <th>match_id</th>\n",
       "      <th>team_id</th>\n",
       "      <th>opponent_team_id</th>\n",
       "      <th>player_id</th>\n",
       "      <th>possession</th>\n",
       "      <th>possession_team_id</th>\n",
       "      <th>period</th>\n",
       "      <th>minute</th>\n",
       "      <th>second</th>\n",
       "      <th>...</th>\n",
       "      <th>freeze_frame_count</th>\n",
       "      <th>event_under_pressure</th>\n",
       "      <th>event_counterpress</th>\n",
       "      <th>event_duration</th>\n",
       "      <th>ff_count</th>\n",
       "      <th>ff_teammates</th>\n",
       "      <th>ff_opponents</th>\n",
       "      <th>ff_keeper_count</th>\n",
       "      <th>ff_keeper_x</th>\n",
       "      <th>ff_keeper_y</th>\n",
       "    </tr>\n",
       "  </thead>\n",
       "  <tbody>\n",
       "    <tr>\n",
       "      <th>0</th>\n",
       "      <td>6a0741a9-8324-48ad-9647-04a342bd9e39</td>\n",
       "      <td>0</td>\n",
       "      <td>241</td>\n",
       "      <td>239</td>\n",
       "      <td>7149</td>\n",
       "      <td>2</td>\n",
       "      <td>241</td>\n",
       "      <td>1</td>\n",
       "      <td>0</td>\n",
       "      <td>15.0</td>\n",
       "      <td>...</td>\n",
       "      <td>10</td>\n",
       "      <td>NaN</td>\n",
       "      <td>None</td>\n",
       "      <td>0.112927</td>\n",
       "      <td>10.0</td>\n",
       "      <td>2.0</td>\n",
       "      <td>8.0</td>\n",
       "      <td>1.0</td>\n",
       "      <td>118.9</td>\n",
       "      <td>41.8</td>\n",
       "    </tr>\n",
       "    <tr>\n",
       "      <th>1</th>\n",
       "      <td>ccb673c1-37ca-48c0-9249-927469dccf9b</td>\n",
       "      <td>0</td>\n",
       "      <td>220</td>\n",
       "      <td>217</td>\n",
       "      <td>3496</td>\n",
       "      <td>3</td>\n",
       "      <td>220</td>\n",
       "      <td>1</td>\n",
       "      <td>0</td>\n",
       "      <td>20.0</td>\n",
       "      <td>...</td>\n",
       "      <td>11</td>\n",
       "      <td>NaN</td>\n",
       "      <td>None</td>\n",
       "      <td>0.403501</td>\n",
       "      <td>11.0</td>\n",
       "      <td>4.0</td>\n",
       "      <td>7.0</td>\n",
       "      <td>1.0</td>\n",
       "      <td>118.8</td>\n",
       "      <td>39.7</td>\n",
       "    </tr>\n",
       "    <tr>\n",
       "      <th>2</th>\n",
       "      <td>44befb97-6618-48a9-8607-8da6c605f339</td>\n",
       "      <td>0</td>\n",
       "      <td>220</td>\n",
       "      <td>217</td>\n",
       "      <td>19677</td>\n",
       "      <td>3</td>\n",
       "      <td>220</td>\n",
       "      <td>1</td>\n",
       "      <td>0</td>\n",
       "      <td>22.0</td>\n",
       "      <td>...</td>\n",
       "      <td>8</td>\n",
       "      <td>NaN</td>\n",
       "      <td>None</td>\n",
       "      <td>0.684151</td>\n",
       "      <td>8.0</td>\n",
       "      <td>2.0</td>\n",
       "      <td>6.0</td>\n",
       "      <td>1.0</td>\n",
       "      <td>119.2</td>\n",
       "      <td>41.3</td>\n",
       "    </tr>\n",
       "    <tr>\n",
       "      <th>3</th>\n",
       "      <td>5f0f0db7-2548-4ca9-9eb6-71b7b96448f1</td>\n",
       "      <td>0</td>\n",
       "      <td>178</td>\n",
       "      <td>872</td>\n",
       "      <td>20359</td>\n",
       "      <td>3</td>\n",
       "      <td>178</td>\n",
       "      <td>1</td>\n",
       "      <td>0</td>\n",
       "      <td>44.0</td>\n",
       "      <td>...</td>\n",
       "      <td>17</td>\n",
       "      <td>1.0</td>\n",
       "      <td>None</td>\n",
       "      <td>0.854850</td>\n",
       "      <td>17.0</td>\n",
       "      <td>7.0</td>\n",
       "      <td>10.0</td>\n",
       "      <td>1.0</td>\n",
       "      <td>118.5</td>\n",
       "      <td>36.0</td>\n",
       "    </tr>\n",
       "    <tr>\n",
       "      <th>4</th>\n",
       "      <td>f6cb589b-95a2-49bb-9c95-2982e02ff65b</td>\n",
       "      <td>0</td>\n",
       "      <td>160</td>\n",
       "      <td>146</td>\n",
       "      <td>10616</td>\n",
       "      <td>3</td>\n",
       "      <td>160</td>\n",
       "      <td>1</td>\n",
       "      <td>0</td>\n",
       "      <td>46.0</td>\n",
       "      <td>...</td>\n",
       "      <td>13</td>\n",
       "      <td>NaN</td>\n",
       "      <td>None</td>\n",
       "      <td>1.010053</td>\n",
       "      <td>13.0</td>\n",
       "      <td>4.0</td>\n",
       "      <td>9.0</td>\n",
       "      <td>1.0</td>\n",
       "      <td>119.0</td>\n",
       "      <td>39.8</td>\n",
       "    </tr>\n",
       "  </tbody>\n",
       "</table>\n",
       "<p>5 rows × 50 columns</p>\n",
       "</div>"
      ]
     },
     "metadata": {},
     "output_type": "display_data"
    }
   ],
   "execution_count": 2
  },
  {
   "cell_type": "code",
   "metadata": {
    "ExecuteTime": {
     "end_time": "2025-10-20T12:51:50.506462Z",
     "start_time": "2025-10-20T12:51:50.432301Z"
    }
   },
   "source": "if df is None or df.empty:\n    print(\"[warn] No data loaded. Creating a tiny mock frame so the notebook runs end-to-end.\")\n    df = pd.DataFrame({\n        \"shot_id\": [\"a\",\"b\",\"c\"],\n        \"outcome\": [\"Goal\",\"Saved\",\"Miss\"],\n        \"is_penalty\": [False, False, False],\n        \"is_own_goal\": [False, False, False],\n        \"start_x\": [100.0, 90.0, 80.0],\n        \"start_y\": [40.0, 30.0, 50.0],\n        \"body_part\": [\"Right Foot\",\"Head\",\"Left Foot\"],\n        \"is_set_piece\": [False, False, True],\n        \"is_corner\": [False, False, False],\n        \"is_free_kick\": [False, False, True],\n        \"first_time\": [True, False, False],\n        \"under_pressure\": [False, True, False],\n        \"ff_opponents\": [1.0, 3.0, 0.0],\n        \"ff_keeper_x\": [118.0, 119.0, 117.5],\n        \"ff_keeper_y\": [40.0, 41.0, 39.5],\n        \"match_id\": [1,1,1],\n    })\n\ndf0 = df.copy()\nmask_valid = (~df0[\"is_penalty\"].astype(bool)) & (~df0[\"is_own_goal\"].astype(bool))\ndata = df0.loc[mask_valid].copy()\n\ny = (data[\"outcome\"] == \"Goal\").astype(int)\nLEAKY = [c for c in [\"end_x\",\"end_y\",\"end_z\"] if c in data.columns]\ndata = data.drop(columns=LEAKY, errors=\"ignore\")\nprint(\"rows:\", len(data), \"goals:\", int(y.sum()), \"base rate:\", float(y.mean()))\n",
   "id": "b5fcbb3216e94eba",
   "outputs": [
    {
     "name": "stdout",
     "output_type": "stream",
     "text": [
      "rows: 86662 goals: 8792 base rate: 0.10145161662551061\n"
     ]
    }
   ],
   "execution_count": 3
  },
  {
   "cell_type": "code",
   "metadata": {
    "ExecuteTime": {
     "end_time": "2025-10-20T12:51:50.514238Z",
     "start_time": "2025-10-20T12:51:50.510973Z"
    }
   },
   "source": "SB_LEN, SB_WID = 120.0, 80.0\nGOAL_YC_SB = 40.0\nGOAL_HALF_W_SB = (7.32/2) * (SB_WID / 68.0)  # ~3.66m scaled to SB units\n\ndef distance_sb(x, y):\n    dx = SB_LEN - x\n    dy = GOAL_YC_SB - y\n    return np.hypot(dx, dy)\n\ndef opening_angle_deg_sb(x, y):\n    left  = np.array([SB_LEN, GOAL_YC_SB - GOAL_HALF_W_SB])\n    right = np.array([SB_LEN, GOAL_YC_SB + GOAL_HALF_W_SB])\n    p = np.column_stack([x, y])\n    v1 = left  - p\n    v2 = right - p\n    dot = (v1 * v2).sum(axis=1)\n    n1 = np.linalg.norm(v1, axis=1)\n    n2 = np.linalg.norm(v2, axis=1)\n    cosang = np.clip(dot/(n1*n2), -1, 1)\n    return np.degrees(np.arccos(cosang))\n",
   "id": "8138b95193f12e1b",
   "outputs": [],
   "execution_count": 4
  },
  {
   "cell_type": "code",
   "metadata": {
    "ExecuteTime": {
     "end_time": "2025-10-20T12:51:50.564867Z",
     "start_time": "2025-10-20T12:51:50.520967Z"
    }
   },
   "source": "X = pd.DataFrame(index=data.index)\nX[\"dist_sb\"] = distance_sb(data[\"start_x\"].to_numpy(), data[\"start_y\"].to_numpy())\nX[\"angle_deg_sb\"] = opening_angle_deg_sb(data[\"start_x\"].to_numpy(), data[\"start_y\"].to_numpy())\n\ndef to_num(s):\n    if pd.api.types.is_bool_dtype(s):\n        return s.fillna(False).astype(int)\n    return pd.to_numeric(s, errors=\"coerce\")\n\nfor col in [\"is_set_piece\",\"is_corner\",\"is_free_kick\",\"first_time\",\"under_pressure\"]:\n    if col in data.columns:\n        X[col] = to_num(data[col].astype(\"boolean\"))\n    else:\n        X[col] = 0\n\nX[\"is_header\"] = (data.get(\"body_part\", \"\") == \"Head\").astype(int) if \"body_part\" in data.columns else 0\n\nif {\"ff_keeper_x\",\"ff_keeper_y\"}.issubset(data.columns):\n    X[\"gk_depth_sb\"] = np.maximum(0.0, SB_LEN - data[\"ff_keeper_x\"])\n    X[\"gk_offset_sb\"] = data[\"ff_keeper_y\"] - GOAL_YC_SB\nelse:\n    X[\"gk_depth_sb\"] = 0.0\n    X[\"gk_offset_sb\"] = 0.0\n\nif \"ff_opponents\" in data.columns:\n    X[\"ff_opponents\"] = pd.to_numeric(data[\"ff_opponents\"], errors=\"coerce\")\nelse:\n    X[\"ff_opponents\"] = 0.0\n\nX = X.apply(pd.to_numeric, errors=\"coerce\")\ndisplay(X.describe().T.head(10))\n",
   "id": "2b6863a62a09782f",
   "outputs": [
    {
     "data": {
      "text/plain": [
       "                  count       mean        std   min        25%        50%  \\\n",
       "dist_sb         86662.0  19.294575   8.768259   0.4  12.229881  18.638938   \n",
       "angle_deg_sb    86662.0  27.113283  16.822261   0.0  16.128874  21.084074   \n",
       "is_set_piece    86662.0   0.049156   0.216196   0.0   0.000000   0.000000   \n",
       "is_corner       86662.0   0.000323   0.017972   0.0   0.000000   0.000000   \n",
       "is_free_kick    86662.0   0.048822   0.215497   0.0   0.000000   0.000000   \n",
       "first_time      86662.0   0.307517   0.461468   0.0   0.000000   0.000000   \n",
       "under_pressure  86662.0   0.241063   0.427731   0.0   0.000000   0.000000   \n",
       "is_header       86662.0   0.161132   0.367655   0.0   0.000000   0.000000   \n",
       "gk_depth_sb     86607.0   2.475010   2.290509   0.0   1.200000   1.900000   \n",
       "gk_offset_sb    86607.0   0.052205   2.605747 -25.9  -1.500000   0.000000   \n",
       "\n",
       "                      75%         max  \n",
       "dist_sb         25.603515   92.800862  \n",
       "angle_deg_sb    33.008305  180.000000  \n",
       "is_set_piece     0.000000    1.000000  \n",
       "is_corner        0.000000    1.000000  \n",
       "is_free_kick     0.000000    1.000000  \n",
       "first_time       1.000000    1.000000  \n",
       "under_pressure   0.000000    1.000000  \n",
       "is_header        0.000000    1.000000  \n",
       "gk_depth_sb      3.000000  118.000000  \n",
       "gk_offset_sb     1.500000   35.100000  "
      ],
      "text/html": [
       "<div>\n",
       "<style scoped>\n",
       "    .dataframe tbody tr th:only-of-type {\n",
       "        vertical-align: middle;\n",
       "    }\n",
       "\n",
       "    .dataframe tbody tr th {\n",
       "        vertical-align: top;\n",
       "    }\n",
       "\n",
       "    .dataframe thead th {\n",
       "        text-align: right;\n",
       "    }\n",
       "</style>\n",
       "<table border=\"1\" class=\"dataframe\">\n",
       "  <thead>\n",
       "    <tr style=\"text-align: right;\">\n",
       "      <th></th>\n",
       "      <th>count</th>\n",
       "      <th>mean</th>\n",
       "      <th>std</th>\n",
       "      <th>min</th>\n",
       "      <th>25%</th>\n",
       "      <th>50%</th>\n",
       "      <th>75%</th>\n",
       "      <th>max</th>\n",
       "    </tr>\n",
       "  </thead>\n",
       "  <tbody>\n",
       "    <tr>\n",
       "      <th>dist_sb</th>\n",
       "      <td>86662.0</td>\n",
       "      <td>19.294575</td>\n",
       "      <td>8.768259</td>\n",
       "      <td>0.4</td>\n",
       "      <td>12.229881</td>\n",
       "      <td>18.638938</td>\n",
       "      <td>25.603515</td>\n",
       "      <td>92.800862</td>\n",
       "    </tr>\n",
       "    <tr>\n",
       "      <th>angle_deg_sb</th>\n",
       "      <td>86662.0</td>\n",
       "      <td>27.113283</td>\n",
       "      <td>16.822261</td>\n",
       "      <td>0.0</td>\n",
       "      <td>16.128874</td>\n",
       "      <td>21.084074</td>\n",
       "      <td>33.008305</td>\n",
       "      <td>180.000000</td>\n",
       "    </tr>\n",
       "    <tr>\n",
       "      <th>is_set_piece</th>\n",
       "      <td>86662.0</td>\n",
       "      <td>0.049156</td>\n",
       "      <td>0.216196</td>\n",
       "      <td>0.0</td>\n",
       "      <td>0.000000</td>\n",
       "      <td>0.000000</td>\n",
       "      <td>0.000000</td>\n",
       "      <td>1.000000</td>\n",
       "    </tr>\n",
       "    <tr>\n",
       "      <th>is_corner</th>\n",
       "      <td>86662.0</td>\n",
       "      <td>0.000323</td>\n",
       "      <td>0.017972</td>\n",
       "      <td>0.0</td>\n",
       "      <td>0.000000</td>\n",
       "      <td>0.000000</td>\n",
       "      <td>0.000000</td>\n",
       "      <td>1.000000</td>\n",
       "    </tr>\n",
       "    <tr>\n",
       "      <th>is_free_kick</th>\n",
       "      <td>86662.0</td>\n",
       "      <td>0.048822</td>\n",
       "      <td>0.215497</td>\n",
       "      <td>0.0</td>\n",
       "      <td>0.000000</td>\n",
       "      <td>0.000000</td>\n",
       "      <td>0.000000</td>\n",
       "      <td>1.000000</td>\n",
       "    </tr>\n",
       "    <tr>\n",
       "      <th>first_time</th>\n",
       "      <td>86662.0</td>\n",
       "      <td>0.307517</td>\n",
       "      <td>0.461468</td>\n",
       "      <td>0.0</td>\n",
       "      <td>0.000000</td>\n",
       "      <td>0.000000</td>\n",
       "      <td>1.000000</td>\n",
       "      <td>1.000000</td>\n",
       "    </tr>\n",
       "    <tr>\n",
       "      <th>under_pressure</th>\n",
       "      <td>86662.0</td>\n",
       "      <td>0.241063</td>\n",
       "      <td>0.427731</td>\n",
       "      <td>0.0</td>\n",
       "      <td>0.000000</td>\n",
       "      <td>0.000000</td>\n",
       "      <td>0.000000</td>\n",
       "      <td>1.000000</td>\n",
       "    </tr>\n",
       "    <tr>\n",
       "      <th>is_header</th>\n",
       "      <td>86662.0</td>\n",
       "      <td>0.161132</td>\n",
       "      <td>0.367655</td>\n",
       "      <td>0.0</td>\n",
       "      <td>0.000000</td>\n",
       "      <td>0.000000</td>\n",
       "      <td>0.000000</td>\n",
       "      <td>1.000000</td>\n",
       "    </tr>\n",
       "    <tr>\n",
       "      <th>gk_depth_sb</th>\n",
       "      <td>86607.0</td>\n",
       "      <td>2.475010</td>\n",
       "      <td>2.290509</td>\n",
       "      <td>0.0</td>\n",
       "      <td>1.200000</td>\n",
       "      <td>1.900000</td>\n",
       "      <td>3.000000</td>\n",
       "      <td>118.000000</td>\n",
       "    </tr>\n",
       "    <tr>\n",
       "      <th>gk_offset_sb</th>\n",
       "      <td>86607.0</td>\n",
       "      <td>0.052205</td>\n",
       "      <td>2.605747</td>\n",
       "      <td>-25.9</td>\n",
       "      <td>-1.500000</td>\n",
       "      <td>0.000000</td>\n",
       "      <td>1.500000</td>\n",
       "      <td>35.100000</td>\n",
       "    </tr>\n",
       "  </tbody>\n",
       "</table>\n",
       "</div>"
      ]
     },
     "metadata": {},
     "output_type": "display_data"
    }
   ],
   "execution_count": 5
  },
  {
   "cell_type": "code",
   "metadata": {
    "ExecuteTime": {
     "end_time": "2025-10-20T12:51:50.585519Z",
     "start_time": "2025-10-20T12:51:50.569510Z"
    }
   },
   "source": "def grouped_split(X, y, groups):\n    idx = np.arange(len(X))\n    if len(idx) == 0:\n        return idx, idx\n\n    if groups is None:\n        rng = np.random.default_rng(SEED)\n        rng.shuffle(idx)\n        cut = int(0.8 * len(idx))\n        return idx[:cut], idx[cut:]\n\n    groups = pd.Series(groups).reset_index(drop=True)\n    unknown_mask = groups.isna() | (groups == 0)\n    known_idx = idx[~unknown_mask.to_numpy()]\n    unknown_idx = idx[unknown_mask.to_numpy()]\n\n    if len(known_idx) == 0:\n        print(\"[warn] All match_ids are missing/zero; reserving them for test only.\")\n        return np.array([], dtype=int), unknown_idx\n\n    known_groups = groups.loc[~unknown_mask]\n    if known_groups.nunique() < 2 or len(known_idx) < 5:\n        rng = np.random.default_rng(SEED)\n        rng.shuffle(known_idx)\n        cut = int(0.8 * len(known_idx))\n        tr_known = known_idx[:cut]\n        te_known = known_idx[cut:]\n    else:\n        n_splits = min(5, int(known_groups.nunique()))\n        gkf = GroupKFold(n_splits=n_splits)\n        group_values = known_groups.to_numpy()\n        tr_loc, te_loc = next(gkf.split(X.iloc[known_idx], y.iloc[known_idx], group_values))\n        tr_known = known_idx[tr_loc]\n        te_known = known_idx[te_loc]\n\n    test_idx = np.sort(np.concatenate([te_known, unknown_idx]))\n    train_mask = np.ones(len(idx), dtype=bool)\n    train_mask[test_idx] = False\n    train_idx = idx[train_mask]\n    return train_idx.astype(int), test_idx.astype(int)\n\ngroups = data[\"match_id\"] if \"match_id\" in data.columns else None\ntrain_idx, test_idx = grouped_split(X, y, groups)\n\nX_tr, X_te = X.iloc[train_idx], X.iloc[test_idx]\ny_tr, y_te = y.iloc[train_idx], y.iloc[test_idx]\n\nif groups is not None and len(train_idx) > 0 and (pd.Series(groups).iloc[train_idx] == 0).any():\n    raise ValueError(\"match_id=0 should not appear in the training split\")\n\nprint(X_tr.shape, X_te.shape, float(y_tr.mean()), float(y_te.mean()))\n",
   "id": "32e5502427e3046a",
   "outputs": [
    {
     "name": "stdout",
     "output_type": "stream",
     "text": [
      "(67443, 11) (19219, 11) 0.10315377429829634 0.09547843280087413\n"
     ]
    }
   ],
   "execution_count": 6
  },
  {
   "cell_type": "code",
   "metadata": {
    "ExecuteTime": {
     "end_time": "2025-10-20T12:51:51.183003Z",
     "start_time": "2025-10-20T12:51:50.589803Z"
    }
   },
   "source": "def safe_metrics(y_true, p):\n    if len(np.unique(y_true)) < 2:\n        return {\"auc\": np.nan, \"logloss\": np.nan, \"brier\": np.nan}\n    return {\n        \"auc\": float(roc_auc_score(y_true, p)),\n        \"logloss\": float(log_loss(y_true, p)),\n        \"brier\": float(brier_score_loss(y_true, p))\n    }\n\ncal = None\np_raw = None\np_cal = None\n\nif len(X_tr) == 0 or len(np.unique(y_tr)) < 2:\n    print(\"[warn] Not enough training data to fit the model.\")\nelse:\n    base = make_pipeline(\n        SimpleImputer(strategy=\"median\"),\n        StandardScaler(with_mean=True, with_std=True),\n        LogisticRegression(max_iter=1000, solver=\"lbfgs\", C=1.0)\n    )\n    base.fit(X_tr, y_tr)\n    p_raw = base.predict_proba(X_te)[:, 1] if len(X_te) else np.array([])\n    print(\"Uncalibrated:\", safe_metrics(y_te, p_raw) if len(p_raw) else {\"auc\": np.nan, \"logloss\": np.nan, \"brier\": np.nan})\n\n    cal = CalibratedClassifierCV(base, method=\"sigmoid\", cv=\"prefit\")\n    cal.fit(X_tr, y_tr)\n    p_cal = cal.predict_proba(X_te)[:, 1] if len(X_te) else np.array([])\n    print(\"Calibrated:\", safe_metrics(y_te, p_cal) if len(p_cal) else {\"auc\": np.nan, \"logloss\": np.nan, \"brier\": np.nan})\n",
   "id": "bdb081dbef424689",
   "outputs": [
    {
     "name": "stdout",
     "output_type": "stream",
     "text": [
      "Uncalibrated: {'auc': 0.8058325423108224, 'logloss': 0.2545874341600894, 'brier': 0.07210427445895876}\n"
     ]
    },
    {
     "name": "stderr",
     "output_type": "stream",
     "text": [
      "/Users/denniskoehn/Library/Caches/pypoetry/virtualenvs/xgoal-tutor-gTwRsLp9-py3.11/lib/python3.11/site-packages/sklearn/calibration.py:330: FutureWarning: The `cv='prefit'` option is deprecated in 1.6 and will be removed in 1.8. You can use CalibratedClassifierCV(FrozenEstimator(estimator)) instead.\n",
      "  warnings.warn(\n"
     ]
    },
    {
     "name": "stdout",
     "output_type": "stream",
     "text": [
      "Calibrated: {'auc': 0.8058325423108224, 'logloss': 0.2545879195184148, 'brier': 0.07210443545622629}\n"
     ]
    }
   ],
   "execution_count": 7
  },
  {
   "cell_type": "code",
   "metadata": {
    "ExecuteTime": {
     "end_time": "2025-10-20T12:51:51.307627Z",
     "start_time": "2025-10-20T12:51:51.193316Z"
    }
   },
   "source": "from sklearn.calibration import calibration_curve\n\nif cal is not None and len(X_te) > 50 and len(np.unique(y_te)) == 2:\n    prob_true, prob_pred = calibration_curve(y_te, p_cal, n_bins=10, strategy=\"quantile\")\n    plt.figure()\n    plt.plot([0,1],[0,1], \"--\", label=\"perfect\")\n    plt.plot(prob_pred, prob_true, marker=\"o\", label=\"calibrated\")\n    plt.xlabel(\"Predicted probability\")\n    plt.ylabel(\"Observed frequency\")\n    plt.title(\"Reliability — Calibrated LR\")\n    plt.legend(); plt.show()\nelse:\n    print(\"[info] Skipping reliability plot (not enough test data or model not fit).\")\n",
   "id": "ace3cdb1af25de2a",
   "outputs": [
    {
     "data": {
      "text/plain": [
       "<Figure size 640x480 with 1 Axes>"
      ],
      "image/png": "[encoded data removed]"
     },
     "metadata": {},
     "output_type": "display_data"
    }
   ],
   "execution_count": 8
  },
  {
   "cell_type": "code",
   "metadata": {
    "ExecuteTime": {
     "end_time": "2025-10-20T12:51:51.329274Z",
     "start_time": "2025-10-20T12:51:51.318680Z"
    }
   },
   "source": "def distance_phrase(d):\n    return \"close range\" if d < 12 else \"medium range\" if d < 18 else \"long range\"\n\ndef angle_phrase(a):\n    return \"wide angle\" if a > 25 else \"moderate angle\" if a > 10 else \"tight angle\"\n\ndef defenders_phrase(n):\n    if n >= 3: return \"crowded sightline\"\n    if n == 0: return \"clear sight\"\n    return None\n\ndef gk_phrase(depth, offset):\n    parts = []\n    if depth >= 6: parts.append(\"deep GK\")\n    if abs(offset) >= 2.5: parts.append(\"GK off-center\")\n    return \"; \\n\".join(parts) if parts else None\n\ndef explain_row(r: pd.Series, xg: float) -> str:\n    bits = [f\"{xg:.2f} xG — {distance_phrase(r['dist_sb'])}, {angle_phrase(r['angle_deg_sb'])}\"]\n    if r.get(\"first_time\", 0) == 1: bits.append(\"first-time\")\n    if r.get(\"is_free_kick\", 0) == 1: bits.append(\"direct free-kick\")\n    dp = defenders_phrase(int(r.get(\"ff_opponents\", 0)))\n    if dp: bits.append(dp)\n    gp = gk_phrase(r.get(\"gk_depth_sb\", 0.0), r.get(\"gk_offset_sb\", 0.0))\n    if gp: bits.append(gp)\n    return \", \\\".join(bits) + \".\"\n\nif cal is None:\n    print(\"[info] Model not fit; skipping coefficient inspection.\")\nelse:\n    lr = cal.base_estimator.named_steps[\"logisticregression\"]\n    coef = lr.coef_[0]\n    feat_names = X_tr.columns\n    coef_df = pd.DataFrame({\"feature\": feat_names, \"coef\": coef}).sort_values(\"coef\", ascending=False)\n    display(coef_df.head(10)); display(coef_df.tail(10))\n\n    # demo for a few test rows (guarded)\n    n_demo = min(5, len(X_te))\n    if n_demo > 0:\n        demo = X_te.head(n_demo)\n        px = cal.predict_proba(demo)[:,1]\n        for r, p in zip(demo.itertuples(index=False), px):\n            print(explain_row(pd.Series(r._asdict(), index=demo.columns), float(p)))\n    else:\n        print(\"[info] No test rows to demo explanations.\")\n",
   "id": "7999079b7e770014",
   "outputs": [
    {
     "ename": "SyntaxError",
     "evalue": "unterminated string literal (detected at line 26) (3618322056.py, line 26)",
     "output_type": "error",
     "traceback": [
      "  \u001B[36mCell\u001B[39m\u001B[36m \u001B[39m\u001B[32mIn[9]\u001B[39m\u001B[32m, line 26\u001B[39m\n\u001B[31m    \u001B[39m\u001B[31mreturn \", \\\".join(bits) + \".\"\u001B[39m\n                                ^\n\u001B[31mSyntaxError\u001B[39m\u001B[31m:\u001B[39m unterminated string literal (detected at line 26)\n"
     ]
    }
   ],
   "execution_count": 9
  },
  {
   "cell_type": "code",
   "metadata": {
    "ExecuteTime": {
     "end_time": "2025-10-20T12:52:27.038171Z",
     "start_time": "2025-10-20T12:52:27.032768Z"
    }
   },
   "source": "from pathlib import Path\nimport joblib, json\n\nART_DIR = Path(\"artifacts\"); ART_DIR.mkdir(exist_ok=True, parents=True)\n\nif cal is not None and len(X_tr) > 0:\n    joblib.dump(cal, ART_DIR / \"baseline_lr_calibrated.joblib\")\n    with open(ART_DIR / \"feature_names.json\", \"w\") as f:\n        json.dump(list(X.columns), f, indent=2)\n    with open(ART_DIR / \"README.txt\", \"w\") as f:\n        f.write(\n            \"Baseline calibrated Logistic Regression for non-penalty shots.\\n\"\n            \"Inputs: features in feature_names.json\\n\"\n            \"Target: outcome == 'Goal'\\n\"\n            \"Calibration: Platt (sigmoid) on train fold\\n\"\n        )\n    print(\"Saved artifacts to:\", ART_DIR.resolve())\nelse:\n    print(\"[info] Skipping artifact save (model not fit).\")\n",
   "id": "d92dbe43eff70aac",
   "outputs": [
    {
     "name": "stdout",
     "output_type": "stream",
     "text": [
      "Saved artifacts to: /Users/denniskoehn/Documents/Git/src/xgoal_tutor/notebooks/artifacts\n"
     ]
    }
   ],
   "execution_count": 10
  },
  {
   "cell_type": "markdown",
   "metadata": {},
   "source": "## Next steps\n\n- Add defenders-in-cone & nearest-defender distance.\n- Try isotonic calibration vs sigmoid.\n- Add LightGBM (shallow) and compare Brier/LogLoss.\n- Ensure GroupKFold across all folds for stable metrics.\n- Plug model + explanation into FastAPI/Streamlit.\n",
   "id": "985a4ad35691c3a0"
  }
 ],
 "metadata": {
  "kernelspec": {
   "display_name": "Python 3",
   "language": "python",
   "name": "python3"
  },
  "language_info": {
   "name": "python",
   "version": "3.11"
  }
 },
 "nbformat": 4,
 "nbformat_minor": 5
}
